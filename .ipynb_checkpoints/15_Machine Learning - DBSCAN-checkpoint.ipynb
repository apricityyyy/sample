{
 "cells": [
  {
   "cell_type": "code",
   "execution_count": null,
   "metadata": {
    "execution": {
     "iopub.execute_input": "2022-05-24T15:06:01.520109Z",
     "iopub.status.busy": "2022-05-24T15:06:01.519369Z",
     "iopub.status.idle": "2022-05-24T15:06:01.527207Z",
     "shell.execute_reply": "2022-05-24T15:06:01.526469Z",
     "shell.execute_reply.started": "2022-05-24T15:06:01.520045Z"
    }
   },
   "outputs": [],
   "source": [
    "import pandas as pd\n",
    "import seaborn as sns\n",
    "import matplotlib.pyplot as plt\n",
    "import numpy as np\n",
    "from scipy import stats"
   ]
  },
  {
   "cell_type": "code",
   "execution_count": null,
   "metadata": {
    "_cell_guid": "79c7e3d0-c299-4dcb-8224-4455121ee9b0",
    "_uuid": "d629ff2d2480ee46fbb7e2d37f6b5fab8052498a",
    "execution": {
     "iopub.execute_input": "2022-05-24T15:06:01.572722Z",
     "iopub.status.busy": "2022-05-24T15:06:01.572375Z",
     "iopub.status.idle": "2022-05-24T15:06:01.590668Z",
     "shell.execute_reply": "2022-05-24T15:06:01.589596Z",
     "shell.execute_reply.started": "2022-05-24T15:06:01.572653Z"
    }
   },
   "outputs": [],
   "source": [
    "mall_data = pd.read_csv('Mall_Customers.csv')\n",
    "\n",
    "print('There are {} rows and {} columns in our dataset.'.format(mall_data.shape[0],mall_data.shape[1]))"
   ]
  },
  {
   "cell_type": "code",
   "execution_count": null,
   "metadata": {
    "execution": {
     "iopub.execute_input": "2022-05-24T15:06:01.613077Z",
     "iopub.status.busy": "2022-05-24T15:06:01.612473Z",
     "iopub.status.idle": "2022-05-24T15:06:01.635141Z",
     "shell.execute_reply": "2022-05-24T15:06:01.633552Z",
     "shell.execute_reply.started": "2022-05-24T15:06:01.613027Z"
    }
   },
   "outputs": [],
   "source": [
    "mall_data.sample(10)"
   ]
  },
  {
   "cell_type": "code",
   "execution_count": null,
   "metadata": {
    "execution": {
     "iopub.execute_input": "2022-05-24T15:06:01.653533Z",
     "iopub.status.busy": "2022-05-24T15:06:01.652937Z",
     "iopub.status.idle": "2022-05-24T15:06:01.686595Z",
     "shell.execute_reply": "2022-05-24T15:06:01.685514Z",
     "shell.execute_reply.started": "2022-05-24T15:06:01.653480Z"
    }
   },
   "outputs": [],
   "source": [
    "mall_data.describe()"
   ]
  },
  {
   "cell_type": "code",
   "execution_count": null,
   "metadata": {
    "execution": {
     "iopub.execute_input": "2022-05-24T15:06:01.728767Z",
     "iopub.status.busy": "2022-05-24T15:06:01.728031Z",
     "iopub.status.idle": "2022-05-24T15:06:01.739787Z",
     "shell.execute_reply": "2022-05-24T15:06:01.737821Z",
     "shell.execute_reply.started": "2022-05-24T15:06:01.728519Z"
    }
   },
   "outputs": [],
   "source": [
    "mall_data.isnull().sum()"
   ]
  },
  {
   "cell_type": "code",
   "execution_count": null,
   "metadata": {
    "execution": {
     "iopub.execute_input": "2022-05-24T15:06:01.782279Z",
     "iopub.status.busy": "2022-05-24T15:06:01.781701Z",
     "iopub.status.idle": "2022-05-24T15:06:02.373888Z",
     "shell.execute_reply": "2022-05-24T15:06:02.372029Z",
     "shell.execute_reply.started": "2022-05-24T15:06:01.782230Z"
    }
   },
   "outputs": [],
   "source": [
    "males_age = mall_data[mall_data['Gender']=='Male']['Age'] # subset with males age\n",
    "females_age = mall_data[mall_data['Gender']=='Female']['Age'] # subset with females age\n",
    "\n",
    "age_bins = range(15,75,5)\n",
    "\n",
    "# males histogram\n",
    "fig2, (ax1, ax2) = plt.subplots(1, 2, figsize=(12,5), sharey=True)\n",
    "sns.distplot(males_age, bins=age_bins, kde=False, color='#0066ff', ax=ax1, hist_kws=dict(edgecolor=\"k\", linewidth=2))\n",
    "ax1.set_xticks(age_bins)\n",
    "ax1.set_ylim(top=25)\n",
    "ax1.set_title('Males')\n",
    "ax1.set_ylabel('Count')\n",
    "ax1.text(45,23, \"TOTAL count: {}\".format(males_age.count()))\n",
    "ax1.text(45,22, \"Mean age: {:.1f}\".format(males_age.mean()))\n",
    "\n",
    "# females histogram\n",
    "sns.distplot(females_age, bins=age_bins, kde=False, color='#cc66ff', ax=ax2, hist_kws=dict(edgecolor=\"k\", linewidth=2))\n",
    "ax2.set_xticks(age_bins)\n",
    "ax2.set_title('Females')\n",
    "ax2.set_ylabel('Count')\n",
    "ax2.text(45,23, \"TOTAL count: {}\".format(females_age.count()))\n",
    "ax2.text(45,22, \"Mean age: {:.1f}\".format(females_age.mean()))\n",
    "\n",
    "plt.show()"
   ]
  },
  {
   "cell_type": "markdown",
   "metadata": {},
   "source": [
    "There are slightly more female customers than male ones (112 vs. 87). Females are 56% of total customers."
   ]
  },
  {
   "cell_type": "code",
   "execution_count": null,
   "metadata": {
    "_kg_hide-input": true,
    "execution": {
     "iopub.execute_input": "2022-05-24T15:06:02.686073Z",
     "iopub.status.busy": "2022-05-24T15:06:02.685388Z",
     "iopub.status.idle": "2022-05-24T15:06:03.606113Z",
     "shell.execute_reply": "2022-05-24T15:06:03.604868Z",
     "shell.execute_reply.started": "2022-05-24T15:06:02.686001Z"
    }
   },
   "outputs": [],
   "source": [
    "males_income = mall_data[mall_data['Gender']=='Male']['Annual Income (k$)'] # subset with males income\n",
    "females_income = mall_data[mall_data['Gender']=='Female']['Annual Income (k$)'] # subset with females income\n",
    "\n",
    "my_bins = range(10,150,10)\n",
    "\n",
    "# males histogram\n",
    "fig, (ax1, ax2) = plt.subplots(1, 2, figsize=(18,5))\n",
    "sns.distplot(males_income, bins=my_bins, kde=False, color='#0066ff', ax=ax1, hist_kws=dict(edgecolor=\"k\", linewidth=2))\n",
    "ax1.set_xticks(my_bins)\n",
    "ax1.set_yticks(range(0,24,2))\n",
    "ax1.set_ylim(0,22)\n",
    "ax1.set_title('Males')\n",
    "ax1.set_ylabel('Count')\n",
    "ax1.text(85,19, \"Mean income: {:.1f}k$\".format(males_income.mean()))\n",
    "ax1.text(85,18, \"Median income: {:.1f}k$\".format(males_income.median()))\n",
    "ax1.text(85,17, \"Std. deviation: {:.1f}k$\".format(males_income.std()))\n",
    "\n",
    "# females histogram\n",
    "sns.distplot(females_income, bins=my_bins, kde=False, color='#cc66ff', ax=ax2, hist_kws=dict(edgecolor=\"k\", linewidth=2))\n",
    "ax2.set_xticks(my_bins)\n",
    "ax2.set_yticks(range(0,24,2))\n",
    "ax2.set_ylim(0,22)\n",
    "ax2.set_title('Females')\n",
    "ax2.set_ylabel('Count')\n",
    "ax2.text(85,19, \"Mean income: {:.1f}k$\".format(females_income.mean()))\n",
    "ax2.text(85,18, \"Median income: {:.1f}k$\".format(females_income.median()))\n",
    "ax2.text(85,17, \"Std. deviation: {:.1f}k$\".format(females_income.std()))"
   ]
  },
  {
   "cell_type": "markdown",
   "metadata": {},
   "source": [
    "### customers segmentation\n",
    "\n",
    "The first step - importing DBSCAN from sklearn."
   ]
  },
  {
   "cell_type": "code",
   "execution_count": null,
   "metadata": {
    "execution": {
     "iopub.execute_input": "2022-05-24T15:06:18.045030Z",
     "iopub.status.busy": "2022-05-24T15:06:18.044378Z",
     "iopub.status.idle": "2022-05-24T15:06:18.049721Z",
     "shell.execute_reply": "2022-05-24T15:06:18.048719Z",
     "shell.execute_reply.started": "2022-05-24T15:06:18.044967Z"
    }
   },
   "outputs": [],
   "source": [
    "from sklearn.cluster import DBSCAN"
   ]
  },
  {
   "cell_type": "code",
   "execution_count": null,
   "metadata": {
    "execution": {
     "iopub.execute_input": "2022-05-24T15:06:18.052371Z",
     "iopub.status.busy": "2022-05-24T15:06:18.051663Z",
     "iopub.status.idle": "2022-05-24T15:06:18.064939Z",
     "shell.execute_reply": "2022-05-24T15:06:18.063935Z",
     "shell.execute_reply.started": "2022-05-24T15:06:18.052282Z"
    }
   },
   "outputs": [],
   "source": [
    "from itertools import product\n",
    "\n",
    "eps_values = np.arange(8,12.75,0.25) # eps values to be investigated\n",
    "min_samples = np.arange(3,10) # min_samples values to be investigated\n",
    "\n",
    "DBSCAN_params = list(product(eps_values, min_samples))"
   ]
  },
  {
   "cell_type": "markdown",
   "metadata": {},
   "source": [
    "Because DBSCAN creates clusters itself based on those two parameters let's check the number of generated clusters."
   ]
  },
  {
   "cell_type": "code",
   "execution_count": null,
   "metadata": {},
   "outputs": [],
   "source": [
    "X_numerics = mall_data[['Age', 'Annual Income (k$)', 'Spending Score (1-100)']]"
   ]
  },
  {
   "cell_type": "code",
   "execution_count": null,
   "metadata": {
    "execution": {
     "iopub.execute_input": "2022-05-24T15:14:03.659127Z",
     "iopub.status.busy": "2022-05-24T15:14:03.658723Z",
     "iopub.status.idle": "2022-05-24T15:14:05.137201Z",
     "shell.execute_reply": "2022-05-24T15:14:05.135989Z",
     "shell.execute_reply.started": "2022-05-24T15:14:03.659063Z"
    }
   },
   "outputs": [],
   "source": [
    "from sklearn.metrics import silhouette_score\n",
    "\n",
    "no_of_clusters = []\n",
    "sil_score = []\n",
    "\n",
    "for p in DBSCAN_params:\n",
    "    DBS_clustering = DBSCAN(eps=p[0], min_samples=p[1]).fit(X_numerics)\n",
    "    no_of_clusters.append(len(np.unique(DBS_clustering.labels_)))\n",
    "    sil_score.append(silhouette_score(X_numerics, DBS_clustering.labels_))"
   ]
  },
  {
   "cell_type": "markdown",
   "metadata": {},
   "source": [
    "A heatplot below shows how many clusters were generated by the DBSCAN algorithm for the respective parameters combinations."
   ]
  },
  {
   "cell_type": "code",
   "execution_count": null,
   "metadata": {
    "_kg_hide-input": true,
    "execution": {
     "iopub.execute_input": "2022-05-24T15:14:05.140637Z",
     "iopub.status.busy": "2022-05-24T15:14:05.139930Z",
     "iopub.status.idle": "2022-05-24T15:14:06.210984Z",
     "shell.execute_reply": "2022-05-24T15:14:06.209703Z",
     "shell.execute_reply.started": "2022-05-24T15:14:05.140564Z"
    }
   },
   "outputs": [],
   "source": [
    "tmp = pd.DataFrame.from_records(DBSCAN_params, columns =['Eps', 'Min_samples'])   \n",
    "tmp['No_of_clusters'] = no_of_clusters\n",
    "\n",
    "pivot_1 = pd.pivot_table(tmp, values='No_of_clusters', index='Min_samples', columns='Eps')\n",
    "\n",
    "fig, ax = plt.subplots(figsize=(12,6))\n",
    "sns.heatmap(pivot_1, annot=True,annot_kws={\"size\": 16}, cmap=\"YlGnBu\", ax=ax)\n",
    "ax.set_title('Number of clusters')\n",
    "plt.show()"
   ]
  },
  {
   "cell_type": "markdown",
   "metadata": {},
   "source": [
    "The heatplot above shows, the number of clusters vary from 17 to 4. However, most of the combinations gives 4-7 clusters.\n",
    "To decide which combination to choose I will use a metric - a silhuette score and I will plot it as a heatmap again."
   ]
  },
  {
   "cell_type": "code",
   "execution_count": null,
   "metadata": {
    "_kg_hide-input": true,
    "execution": {
     "iopub.execute_input": "2022-05-24T15:14:06.214167Z",
     "iopub.status.busy": "2022-05-24T15:14:06.213488Z",
     "iopub.status.idle": "2022-05-24T15:14:07.588442Z",
     "shell.execute_reply": "2022-05-24T15:14:07.587018Z",
     "shell.execute_reply.started": "2022-05-24T15:14:06.214089Z"
    }
   },
   "outputs": [],
   "source": [
    "tmp = pd.DataFrame.from_records(DBSCAN_params, columns =['Eps', 'Min_samples'])   \n",
    "tmp['Sil_score'] = sil_score\n",
    "\n",
    "pivot_1 = pd.pivot_table(tmp, values='Sil_score', index='Min_samples', columns='Eps')\n",
    "\n",
    "fig, ax = plt.subplots(figsize=(18,6))\n",
    "sns.heatmap(pivot_1, annot=True, annot_kws={\"size\": 10}, cmap=\"YlGnBu\", ax=ax)\n",
    "plt.show()"
   ]
  },
  {
   "cell_type": "markdown",
   "metadata": {},
   "source": [
    "Global maximum is 0.26 for `eps`=12.5 and `min_samples`=4."
   ]
  },
  {
   "cell_type": "code",
   "execution_count": null,
   "metadata": {
    "_kg_hide-input": true,
    "execution": {
     "iopub.execute_input": "2022-05-24T15:14:09.052016Z",
     "iopub.status.busy": "2022-05-24T15:14:09.051373Z",
     "iopub.status.idle": "2022-05-24T15:14:09.063014Z",
     "shell.execute_reply": "2022-05-24T15:14:09.062294Z",
     "shell.execute_reply.started": "2022-05-24T15:14:09.051963Z"
    }
   },
   "outputs": [],
   "source": [
    "DBS_clustering = DBSCAN(eps=12.5, min_samples=4).fit(X_numerics)\n",
    "\n",
    "DBSCAN_clustered = X_numerics.copy()\n",
    "DBSCAN_clustered.loc[:,'Cluster'] = DBS_clustering.labels_ # append labels to points"
   ]
  },
  {
   "cell_type": "markdown",
   "metadata": {},
   "source": [
    "Checking sizes of clusters."
   ]
  },
  {
   "cell_type": "code",
   "execution_count": null,
   "metadata": {
    "_kg_hide-input": true,
    "execution": {
     "iopub.execute_input": "2022-05-24T15:14:09.341991Z",
     "iopub.status.busy": "2022-05-24T15:14:09.341382Z",
     "iopub.status.idle": "2022-05-24T15:14:09.355194Z",
     "shell.execute_reply": "2022-05-24T15:14:09.353861Z",
     "shell.execute_reply.started": "2022-05-24T15:14:09.341937Z"
    }
   },
   "outputs": [],
   "source": [
    "DBSCAN_clust_sizes = DBSCAN_clustered.groupby('Cluster').size().to_frame()\n",
    "DBSCAN_clust_sizes.columns = [\"DBSCAN_size\"]\n",
    "DBSCAN_clust_sizes"
   ]
  },
  {
   "cell_type": "markdown",
   "metadata": {},
   "source": [
    "DBSCAN created 5 clusters plus outliers cluster (-1). Sizes of clusters 0-4 vary significantly - some have only 4 or 8 observations. There are 18 outliers."
   ]
  },
  {
   "cell_type": "code",
   "execution_count": null,
   "metadata": {},
   "outputs": [],
   "source": []
  }
 ],
 "metadata": {
  "kernelspec": {
   "display_name": "Python 3 (ipykernel)",
   "language": "python",
   "name": "python3"
  },
  "language_info": {
   "codemirror_mode": {
    "name": "ipython",
    "version": 3
   },
   "file_extension": ".py",
   "mimetype": "text/x-python",
   "name": "python",
   "nbconvert_exporter": "python",
   "pygments_lexer": "ipython3",
   "version": "3.11.1"
  }
 },
 "nbformat": 4,
 "nbformat_minor": 4
}

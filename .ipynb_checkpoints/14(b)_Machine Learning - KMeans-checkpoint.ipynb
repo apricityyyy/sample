{
 "cells": [
  {
   "cell_type": "code",
   "execution_count": null,
   "id": "4dffdae1",
   "metadata": {},
   "outputs": [],
   "source": [
    "import pandas as pd\n",
    "import numpy as np\n",
    "import seaborn as sns\n",
    "import matplotlib.pyplot as plt\n",
    "\n",
    "%matplotlib inline\n",
    "sns.set_style('whitegrid')\n",
    "plt.style.use('fivethirtyeight')"
   ]
  },
  {
   "cell_type": "code",
   "execution_count": null,
   "id": "fc6d4112",
   "metadata": {},
   "outputs": [],
   "source": [
    "data = pd.read_csv(\"data.csv\")\n",
    "data.head()"
   ]
  },
  {
   "cell_type": "code",
   "execution_count": null,
   "id": "112c861c",
   "metadata": {},
   "outputs": [],
   "source": [
    "data.info()"
   ]
  },
  {
   "cell_type": "code",
   "execution_count": null,
   "id": "02a5bb69",
   "metadata": {},
   "outputs": [],
   "source": [
    "pd.set_option('display.float', '{:.2f}'.format)\n",
    "data.describe()"
   ]
  },
  {
   "cell_type": "code",
   "execution_count": null,
   "id": "b8f84ba8",
   "metadata": {},
   "outputs": [],
   "source": [
    "# g = sns.PairGrid(data, hue=\"private\")\n",
    "# g.map(sns.scatterplot)"
   ]
  },
  {
   "cell_type": "code",
   "execution_count": null,
   "id": "12155567",
   "metadata": {},
   "outputs": [],
   "source": [
    "plt.figure(figsize=(10, 10))\n",
    "sns.scatterplot(x='room_board', y='grad_rate', data=data, hue='private')"
   ]
  },
  {
   "cell_type": "code",
   "execution_count": null,
   "id": "66241435",
   "metadata": {},
   "outputs": [],
   "source": [
    "plt.figure(figsize=(10, 10))\n",
    "sns.scatterplot(x='outstate', y='f_undergrad', data=data, hue='private')"
   ]
  },
  {
   "cell_type": "code",
   "execution_count": null,
   "id": "c310590a",
   "metadata": {},
   "outputs": [],
   "source": [
    "plt.figure(figsize=(12, 8))\n",
    "\n",
    "data.loc[data.private == 'Yes', 'outstate'].hist(label=\"Private College\", bins=30)\n",
    "data.loc[data.private == 'No', 'outstate'].hist(label=\"Non Private College\", bins=30)\n",
    "\n",
    "plt.xlabel('Outstate')\n",
    "plt.legend()"
   ]
  },
  {
   "cell_type": "code",
   "execution_count": null,
   "id": "9f239225",
   "metadata": {},
   "outputs": [],
   "source": [
    "plt.figure(figsize=(12, 8))\n",
    "\n",
    "data.loc[data.private == 'Yes', 'grad_rate'].hist(label=\"Private College\", bins=30)\n",
    "data.loc[data.private == 'No', 'grad_rate'].hist(label=\"Non Private College\", bins=30)\n",
    "\n",
    "plt.xlabel('Graduation Rate')\n",
    "plt.legend()"
   ]
  },
  {
   "cell_type": "code",
   "execution_count": null,
   "id": "86847d09",
   "metadata": {},
   "outputs": [],
   "source": [
    "data.loc[data.grad_rate > 100]"
   ]
  },
  {
   "cell_type": "code",
   "execution_count": null,
   "id": "9971ed7a",
   "metadata": {},
   "outputs": [],
   "source": [
    "data.loc[data.grad_rate > 100, 'grad_rate'] = 100"
   ]
  },
  {
   "cell_type": "code",
   "execution_count": null,
   "id": "8c7b7a16",
   "metadata": {},
   "outputs": [],
   "source": [
    "plt.figure(figsize=(12, 8))\n",
    "\n",
    "data.loc[data.private == 'Yes', 'grad_rate'].hist(label=\"Private College\", bins=30)\n",
    "data.loc[data.private == 'No', 'grad_rate'].hist(label=\"Non Private College\", bins=30)\n",
    "\n",
    "plt.xlabel('Graduation Rate')\n",
    "plt.legend()"
   ]
  },
  {
   "cell_type": "code",
   "execution_count": null,
   "id": "ada4862e",
   "metadata": {},
   "outputs": [],
   "source": [
    "from sklearn.cluster import KMeans"
   ]
  },
  {
   "cell_type": "code",
   "execution_count": null,
   "id": "bc7929ec",
   "metadata": {},
   "outputs": [],
   "source": [
    "kmeans = KMeans(2)"
   ]
  },
  {
   "cell_type": "code",
   "execution_count": null,
   "id": "c543b9e2",
   "metadata": {},
   "outputs": [],
   "source": [
    "kmeans.fit(data.drop('private', axis=1))"
   ]
  },
  {
   "cell_type": "code",
   "execution_count": null,
   "id": "0b23b183",
   "metadata": {},
   "outputs": [],
   "source": [
    "kmeans.cluster_centers_"
   ]
  },
  {
   "cell_type": "code",
   "execution_count": null,
   "id": "98f13a4c",
   "metadata": {},
   "outputs": [],
   "source": [
    "data['private'] = data.private.astype(\"category\").cat.codes"
   ]
  },
  {
   "cell_type": "code",
   "execution_count": null,
   "id": "34634646",
   "metadata": {},
   "outputs": [],
   "source": [
    "data.private"
   ]
  },
  {
   "cell_type": "code",
   "execution_count": null,
   "id": "4bd4a5be",
   "metadata": {},
   "outputs": [],
   "source": [
    "data.head()"
   ]
  },
  {
   "cell_type": "code",
   "execution_count": null,
   "id": "4224323a",
   "metadata": {},
   "outputs": [],
   "source": [
    "kmeans.labels_"
   ]
  },
  {
   "cell_type": "code",
   "execution_count": null,
   "id": "78040791",
   "metadata": {},
   "outputs": [],
   "source": [
    "from sklearn.metrics import classification_report, confusion_matrix\n",
    "\n",
    "print(confusion_matrix(data.private, kmeans.labels_))\n",
    "print(classification_report(data.private, kmeans.labels_))"
   ]
  },
  {
   "cell_type": "code",
   "execution_count": null,
   "id": "0aebd005",
   "metadata": {},
   "outputs": [],
   "source": [
    "from sklearn.metrics import accuracy_score, confusion_matrix\n",
    "\n",
    "print(accuracy_score(data.private, kmeans.labels_))\n",
    "print(pd.DataFrame(classification_report(data.private, kmeans.labels_, output_dict=True)))"
   ]
  },
  {
   "cell_type": "code",
   "execution_count": null,
   "id": "d1cad07f",
   "metadata": {},
   "outputs": [],
   "source": []
  }
 ],
 "metadata": {
  "kernelspec": {
   "display_name": "Python 3 (ipykernel)",
   "language": "python",
   "name": "python3"
  },
  "language_info": {
   "codemirror_mode": {
    "name": "ipython",
    "version": 3
   },
   "file_extension": ".py",
   "mimetype": "text/x-python",
   "name": "python",
   "nbconvert_exporter": "python",
   "pygments_lexer": "ipython3",
   "version": "3.9.7"
  }
 },
 "nbformat": 4,
 "nbformat_minor": 5
}

{
 "cells": [
  {
   "cell_type": "code",
   "execution_count": null,
   "id": "08c6776d",
   "metadata": {},
   "outputs": [],
   "source": [
    "import numpy as np\n",
    "import matplotlib.pyplot as plt\n",
    "from sklearn.cluster import KMeans\n",
    "from sklearn.datasets import make_blobs\n",
    "from sklearn.metrics import silhouette_score"
   ]
  },
  {
   "cell_type": "code",
   "execution_count": null,
   "id": "85b5e893",
   "metadata": {},
   "outputs": [],
   "source": [
    "# Generate random data with three clusters\n",
    "n_samples = 777\n",
    "n_features = 2\n",
    "n_clusters = 3\n",
    "\n",
    "data, labels = make_blobs(n_samples=n_samples, n_features=n_features, centers=n_clusters, random_state=42)"
   ]
  },
  {
   "cell_type": "code",
   "execution_count": null,
   "id": "b75abb2a",
   "metadata": {},
   "outputs": [],
   "source": [
    "# Initialize K-Means with the desired number of clusters\n",
    "kmeans = KMeans(n_clusters=n_clusters)\n",
    "\n",
    "# Fit the K-Means model to the data\n",
    "kmeans.fit(data)\n",
    "\n",
    "# Get cluster assignments for each data point\n",
    "cluster_assignments = kmeans.labels_"
   ]
  },
  {
   "cell_type": "code",
   "execution_count": null,
   "id": "31addd60",
   "metadata": {},
   "outputs": [],
   "source": [
    "cluster_assignments"
   ]
  },
  {
   "cell_type": "code",
   "execution_count": null,
   "id": "39e87642",
   "metadata": {},
   "outputs": [],
   "source": [
    "# Plot the data points with color-coded clusters\n",
    "plt.scatter(data[:, 0], data[:, 1], c=cluster_assignments)\n",
    "plt.scatter(kmeans.cluster_centers_[:, 0], kmeans.cluster_centers_[:, 1], c='red', marker='x', s=100, label='Cluster Centers')\n",
    "plt.title('K-Means Clustering')\n",
    "plt.legend()\n",
    "plt.show()"
   ]
  },
  {
   "cell_type": "markdown",
   "id": "1582486c",
   "metadata": {},
   "source": [
    "Now, let's demonstrate the elbow method to determine the optimal number of clusters:"
   ]
  },
  {
   "cell_type": "code",
   "execution_count": null,
   "id": "812f459e",
   "metadata": {},
   "outputs": [],
   "source": [
    "# Calculate the sum of squared distances for different values of k\n",
    "sse = []\n",
    "silhouette_scores = {}\n",
    "\n",
    "for k in range(2, 11):\n",
    "    kmeans = KMeans(n_clusters=k)\n",
    "    kmeans.fit(data)\n",
    "    sse.append(kmeans.inertia_)\n",
    "    cluster_assignments = kmeans.labels_\n",
    "    silhouette_avg = silhouette_score(data, cluster_assignments)\n",
    "    silhouette_scores[str(k)] = silhouette_avg\n",
    "\n",
    "\n",
    "# Plot the elbow curve\n",
    "plt.plot(range(2, 11), sse, marker='o')\n",
    "plt.xlabel('Number of Clusters (k)')\n",
    "plt.ylabel('Sum of Squared Distances')\n",
    "plt.title('Elbow Method for Optimal k')\n",
    "plt.grid()\n",
    "plt.show()"
   ]
  },
  {
   "cell_type": "code",
   "execution_count": null,
   "id": "e7f1cd07",
   "metadata": {},
   "outputs": [],
   "source": [
    "silhouette_scores"
   ]
  },
  {
   "cell_type": "code",
   "execution_count": null,
   "id": "57a48e49",
   "metadata": {},
   "outputs": [],
   "source": []
  },
  {
   "cell_type": "code",
   "execution_count": null,
   "id": "89a7a2e2",
   "metadata": {},
   "outputs": [],
   "source": []
  }
 ],
 "metadata": {
  "kernelspec": {
   "display_name": "Python 3 (ipykernel)",
   "language": "python",
   "name": "python3"
  },
  "language_info": {
   "codemirror_mode": {
    "name": "ipython",
    "version": 3
   },
   "file_extension": ".py",
   "mimetype": "text/x-python",
   "name": "python",
   "nbconvert_exporter": "python",
   "pygments_lexer": "ipython3",
   "version": "3.9.7"
  }
 },
 "nbformat": 4,
 "nbformat_minor": 5
}
